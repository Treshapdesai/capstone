{
 "cells": [
  {
   "cell_type": "code",
   "execution_count": null,
   "metadata": {},
   "outputs": [],
   "source": []
  },
  {
   "cell_type": "code",
   "execution_count": 1,
   "metadata": {},
   "outputs": [],
   "source": [
    "import pandas as pd\n",
    "import numpy as np\n",
    "import matplotlib.pyplot as plt\n",
    "import seaborn as sns"
   ]
  },
  {
   "cell_type": "code",
   "execution_count": 2,
   "metadata": {},
   "outputs": [],
   "source": [
    "# read colorectal cancer data set \n",
    "\n",
    "colorectal = pd.read_csv('../data/hmnist_64_64_L.csv')\n"
   ]
  },
  {
   "cell_type": "code",
   "execution_count": 3,
   "metadata": {},
   "outputs": [
    {
     "data": {
      "text/html": [
       "<div>\n",
       "<style scoped>\n",
       "    .dataframe tbody tr th:only-of-type {\n",
       "        vertical-align: middle;\n",
       "    }\n",
       "\n",
       "    .dataframe tbody tr th {\n",
       "        vertical-align: top;\n",
       "    }\n",
       "\n",
       "    .dataframe thead th {\n",
       "        text-align: right;\n",
       "    }\n",
       "</style>\n",
       "<table border=\"1\" class=\"dataframe\">\n",
       "  <thead>\n",
       "    <tr style=\"text-align: right;\">\n",
       "      <th></th>\n",
       "      <th>pixel0000</th>\n",
       "      <th>pixel0001</th>\n",
       "      <th>pixel0002</th>\n",
       "      <th>pixel0003</th>\n",
       "      <th>pixel0004</th>\n",
       "      <th>pixel0005</th>\n",
       "      <th>pixel0006</th>\n",
       "      <th>pixel0007</th>\n",
       "      <th>pixel0008</th>\n",
       "      <th>pixel0009</th>\n",
       "      <th>...</th>\n",
       "      <th>pixel4087</th>\n",
       "      <th>pixel4088</th>\n",
       "      <th>pixel4089</th>\n",
       "      <th>pixel4090</th>\n",
       "      <th>pixel4091</th>\n",
       "      <th>pixel4092</th>\n",
       "      <th>pixel4093</th>\n",
       "      <th>pixel4094</th>\n",
       "      <th>pixel4095</th>\n",
       "      <th>label</th>\n",
       "    </tr>\n",
       "  </thead>\n",
       "  <tbody>\n",
       "    <tr>\n",
       "      <th>0</th>\n",
       "      <td>134</td>\n",
       "      <td>99</td>\n",
       "      <td>119</td>\n",
       "      <td>130</td>\n",
       "      <td>142</td>\n",
       "      <td>169</td>\n",
       "      <td>152</td>\n",
       "      <td>139</td>\n",
       "      <td>117</td>\n",
       "      <td>87</td>\n",
       "      <td>...</td>\n",
       "      <td>112</td>\n",
       "      <td>89</td>\n",
       "      <td>73</td>\n",
       "      <td>100</td>\n",
       "      <td>120</td>\n",
       "      <td>120</td>\n",
       "      <td>126</td>\n",
       "      <td>140</td>\n",
       "      <td>195</td>\n",
       "      <td>2</td>\n",
       "    </tr>\n",
       "    <tr>\n",
       "      <th>1</th>\n",
       "      <td>55</td>\n",
       "      <td>64</td>\n",
       "      <td>74</td>\n",
       "      <td>63</td>\n",
       "      <td>74</td>\n",
       "      <td>75</td>\n",
       "      <td>71</td>\n",
       "      <td>73</td>\n",
       "      <td>70</td>\n",
       "      <td>77</td>\n",
       "      <td>...</td>\n",
       "      <td>79</td>\n",
       "      <td>85</td>\n",
       "      <td>86</td>\n",
       "      <td>77</td>\n",
       "      <td>68</td>\n",
       "      <td>66</td>\n",
       "      <td>65</td>\n",
       "      <td>68</td>\n",
       "      <td>69</td>\n",
       "      <td>2</td>\n",
       "    </tr>\n",
       "    <tr>\n",
       "      <th>2</th>\n",
       "      <td>114</td>\n",
       "      <td>116</td>\n",
       "      <td>136</td>\n",
       "      <td>152</td>\n",
       "      <td>132</td>\n",
       "      <td>100</td>\n",
       "      <td>151</td>\n",
       "      <td>150</td>\n",
       "      <td>127</td>\n",
       "      <td>205</td>\n",
       "      <td>...</td>\n",
       "      <td>128</td>\n",
       "      <td>157</td>\n",
       "      <td>159</td>\n",
       "      <td>205</td>\n",
       "      <td>182</td>\n",
       "      <td>143</td>\n",
       "      <td>129</td>\n",
       "      <td>89</td>\n",
       "      <td>122</td>\n",
       "      <td>2</td>\n",
       "    </tr>\n",
       "    <tr>\n",
       "      <th>3</th>\n",
       "      <td>86</td>\n",
       "      <td>82</td>\n",
       "      <td>88</td>\n",
       "      <td>85</td>\n",
       "      <td>103</td>\n",
       "      <td>93</td>\n",
       "      <td>98</td>\n",
       "      <td>109</td>\n",
       "      <td>104</td>\n",
       "      <td>115</td>\n",
       "      <td>...</td>\n",
       "      <td>79</td>\n",
       "      <td>80</td>\n",
       "      <td>109</td>\n",
       "      <td>128</td>\n",
       "      <td>89</td>\n",
       "      <td>85</td>\n",
       "      <td>80</td>\n",
       "      <td>63</td>\n",
       "      <td>48</td>\n",
       "      <td>2</td>\n",
       "    </tr>\n",
       "    <tr>\n",
       "      <th>4</th>\n",
       "      <td>168</td>\n",
       "      <td>143</td>\n",
       "      <td>140</td>\n",
       "      <td>139</td>\n",
       "      <td>129</td>\n",
       "      <td>123</td>\n",
       "      <td>123</td>\n",
       "      <td>141</td>\n",
       "      <td>137</td>\n",
       "      <td>101</td>\n",
       "      <td>...</td>\n",
       "      <td>231</td>\n",
       "      <td>199</td>\n",
       "      <td>183</td>\n",
       "      <td>195</td>\n",
       "      <td>179</td>\n",
       "      <td>134</td>\n",
       "      <td>142</td>\n",
       "      <td>158</td>\n",
       "      <td>149</td>\n",
       "      <td>2</td>\n",
       "    </tr>\n",
       "  </tbody>\n",
       "</table>\n",
       "<p>5 rows × 4097 columns</p>\n",
       "</div>"
      ],
      "text/plain": [
       "   pixel0000  pixel0001  pixel0002  pixel0003  pixel0004  pixel0005  \\\n",
       "0        134         99        119        130        142        169   \n",
       "1         55         64         74         63         74         75   \n",
       "2        114        116        136        152        132        100   \n",
       "3         86         82         88         85        103         93   \n",
       "4        168        143        140        139        129        123   \n",
       "\n",
       "   pixel0006  pixel0007  pixel0008  pixel0009  ...  pixel4087  pixel4088  \\\n",
       "0        152        139        117         87  ...        112         89   \n",
       "1         71         73         70         77  ...         79         85   \n",
       "2        151        150        127        205  ...        128        157   \n",
       "3         98        109        104        115  ...         79         80   \n",
       "4        123        141        137        101  ...        231        199   \n",
       "\n",
       "   pixel4089  pixel4090  pixel4091  pixel4092  pixel4093  pixel4094  \\\n",
       "0         73        100        120        120        126        140   \n",
       "1         86         77         68         66         65         68   \n",
       "2        159        205        182        143        129         89   \n",
       "3        109        128         89         85         80         63   \n",
       "4        183        195        179        134        142        158   \n",
       "\n",
       "   pixel4095  label  \n",
       "0        195      2  \n",
       "1         69      2  \n",
       "2        122      2  \n",
       "3         48      2  \n",
       "4        149      2  \n",
       "\n",
       "[5 rows x 4097 columns]"
      ]
     },
     "execution_count": 3,
     "metadata": {},
     "output_type": "execute_result"
    }
   ],
   "source": [
    "# check first 5 rows of dataset\n",
    "\n",
    "colorectal.head()"
   ]
  },
  {
   "cell_type": "code",
   "execution_count": 9,
   "metadata": {},
   "outputs": [
    {
     "name": "stdout",
     "output_type": "stream",
     "text": [
      "<class 'pandas.core.frame.DataFrame'>\n",
      "RangeIndex: 5000 entries, 0 to 4999\n",
      "Columns: 4097 entries, pixel0000 to label\n",
      "dtypes: int64(4097)\n",
      "memory usage: 156.3 MB\n"
     ]
    }
   ],
   "source": [
    "# dataset information check\n",
    "\n",
    "colorectal.info()"
   ]
  },
  {
   "cell_type": "code",
   "execution_count": 10,
   "metadata": {},
   "outputs": [
    {
     "data": {
      "text/plain": [
       "pixel0000    236\n",
       "pixel0001    238\n",
       "pixel0002    241\n",
       "pixel0003    239\n",
       "pixel0004    238\n",
       "            ... \n",
       "pixel4092    239\n",
       "pixel4093    237\n",
       "pixel4094    238\n",
       "pixel4095    237\n",
       "label          8\n",
       "Length: 4097, dtype: int64"
      ]
     },
     "execution_count": 10,
     "metadata": {},
     "output_type": "execute_result"
    }
   ],
   "source": [
    "# check dataset unique values\n",
    "\n",
    "colorectal.nunique()"
   ]
  },
  {
   "cell_type": "code",
   "execution_count": 11,
   "metadata": {},
   "outputs": [
    {
     "data": {
      "text/plain": [
       "label        0\n",
       "pixel2047    0\n",
       "pixel1373    0\n",
       "pixel1372    0\n",
       "pixel1371    0\n",
       "            ..\n",
       "pixel2725    0\n",
       "pixel2724    0\n",
       "pixel2723    0\n",
       "pixel2722    0\n",
       "pixel0000    0\n",
       "Length: 4097, dtype: int64"
      ]
     },
     "execution_count": 11,
     "metadata": {},
     "output_type": "execute_result"
    }
   ],
   "source": [
    "# check dataset missing values\n",
    "\n",
    "colorectal.isnull().sum().sort_values(ascending=False)"
   ]
  },
  {
   "cell_type": "markdown",
   "metadata": {},
   "source": [
    "There are no missing values. Therefore no columns or rows will be dropped."
   ]
  },
  {
   "cell_type": "code",
   "execution_count": null,
   "metadata": {},
   "outputs": [],
   "source": []
  },
  {
   "cell_type": "code",
   "execution_count": null,
   "metadata": {},
   "outputs": [],
   "source": []
  },
  {
   "cell_type": "code",
   "execution_count": null,
   "metadata": {},
   "outputs": [],
   "source": []
  },
  {
   "cell_type": "code",
   "execution_count": null,
   "metadata": {},
   "outputs": [],
   "source": []
  },
  {
   "cell_type": "code",
   "execution_count": null,
   "metadata": {},
   "outputs": [],
   "source": []
  },
  {
   "cell_type": "code",
   "execution_count": null,
   "metadata": {},
   "outputs": [],
   "source": []
  },
  {
   "cell_type": "code",
   "execution_count": null,
   "metadata": {},
   "outputs": [],
   "source": []
  }
 ],
 "metadata": {
  "kernelspec": {
   "display_name": "Python 3",
   "language": "python",
   "name": "python3"
  },
  "language_info": {
   "codemirror_mode": {
    "name": "ipython",
    "version": 3
   },
   "file_extension": ".py",
   "mimetype": "text/x-python",
   "name": "python",
   "nbconvert_exporter": "python",
   "pygments_lexer": "ipython3",
   "version": "3.8.5"
  }
 },
 "nbformat": 4,
 "nbformat_minor": 4
}
