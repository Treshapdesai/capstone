{
 "cells": [
  {
   "cell_type": "markdown",
   "metadata": {},
   "source": []
  },
  {
   "cell_type": "markdown",
   "metadata": {},
   "source": [
    "## Colorectal cancer dataset"
   ]
  },
  {
   "cell_type": "code",
   "execution_count": 24,
   "metadata": {},
   "outputs": [],
   "source": [
    "# imports relevant modules\n",
    "\n",
    "import pandas as pd\n",
    "import numpy as np\n",
    "from sklearn.model_selection import train_test_split, GridSearchCV, cross_val_score\n",
    "from sklearn.metrics import confusion_matrix, plot_confusion_matrix, f1_score\n",
    "from sklearn.ensemble import RandomForestClassifier\n",
    "from sklearn.preprocessing import StandardScaler"
   ]
  },
  {
   "cell_type": "code",
   "execution_count": 17,
   "metadata": {},
   "outputs": [],
   "source": [
    "colorectalx = pd.read_csv('../data/hmnist_64_64_L.csv')\n",
    "colorectalx.drop(columns = 'label', inplace=True)\n",
    "colorectaly = pd.read_csv('../data/hmnist_64_64_L.csv')"
   ]
  },
  {
   "cell_type": "code",
   "execution_count": 18,
   "metadata": {},
   "outputs": [],
   "source": [
    "# set up data for modelling random forests\n",
    "\n",
    "X = colorectalx\n",
    "y = colorectaly['label']"
   ]
  },
  {
   "cell_type": "code",
   "execution_count": 19,
   "metadata": {},
   "outputs": [
    {
     "data": {
      "text/html": [
       "<div>\n",
       "<style scoped>\n",
       "    .dataframe tbody tr th:only-of-type {\n",
       "        vertical-align: middle;\n",
       "    }\n",
       "\n",
       "    .dataframe tbody tr th {\n",
       "        vertical-align: top;\n",
       "    }\n",
       "\n",
       "    .dataframe thead th {\n",
       "        text-align: right;\n",
       "    }\n",
       "</style>\n",
       "<table border=\"1\" class=\"dataframe\">\n",
       "  <thead>\n",
       "    <tr style=\"text-align: right;\">\n",
       "      <th></th>\n",
       "      <th>pixel0000</th>\n",
       "      <th>pixel0001</th>\n",
       "      <th>pixel0002</th>\n",
       "      <th>pixel0003</th>\n",
       "      <th>pixel0004</th>\n",
       "      <th>pixel0005</th>\n",
       "      <th>pixel0006</th>\n",
       "      <th>pixel0007</th>\n",
       "      <th>pixel0008</th>\n",
       "      <th>pixel0009</th>\n",
       "      <th>...</th>\n",
       "      <th>pixel4086</th>\n",
       "      <th>pixel4087</th>\n",
       "      <th>pixel4088</th>\n",
       "      <th>pixel4089</th>\n",
       "      <th>pixel4090</th>\n",
       "      <th>pixel4091</th>\n",
       "      <th>pixel4092</th>\n",
       "      <th>pixel4093</th>\n",
       "      <th>pixel4094</th>\n",
       "      <th>pixel4095</th>\n",
       "    </tr>\n",
       "  </thead>\n",
       "  <tbody>\n",
       "    <tr>\n",
       "      <th>0</th>\n",
       "      <td>134</td>\n",
       "      <td>99</td>\n",
       "      <td>119</td>\n",
       "      <td>130</td>\n",
       "      <td>142</td>\n",
       "      <td>169</td>\n",
       "      <td>152</td>\n",
       "      <td>139</td>\n",
       "      <td>117</td>\n",
       "      <td>87</td>\n",
       "      <td>...</td>\n",
       "      <td>146</td>\n",
       "      <td>112</td>\n",
       "      <td>89</td>\n",
       "      <td>73</td>\n",
       "      <td>100</td>\n",
       "      <td>120</td>\n",
       "      <td>120</td>\n",
       "      <td>126</td>\n",
       "      <td>140</td>\n",
       "      <td>195</td>\n",
       "    </tr>\n",
       "    <tr>\n",
       "      <th>1</th>\n",
       "      <td>55</td>\n",
       "      <td>64</td>\n",
       "      <td>74</td>\n",
       "      <td>63</td>\n",
       "      <td>74</td>\n",
       "      <td>75</td>\n",
       "      <td>71</td>\n",
       "      <td>73</td>\n",
       "      <td>70</td>\n",
       "      <td>77</td>\n",
       "      <td>...</td>\n",
       "      <td>76</td>\n",
       "      <td>79</td>\n",
       "      <td>85</td>\n",
       "      <td>86</td>\n",
       "      <td>77</td>\n",
       "      <td>68</td>\n",
       "      <td>66</td>\n",
       "      <td>65</td>\n",
       "      <td>68</td>\n",
       "      <td>69</td>\n",
       "    </tr>\n",
       "    <tr>\n",
       "      <th>2</th>\n",
       "      <td>114</td>\n",
       "      <td>116</td>\n",
       "      <td>136</td>\n",
       "      <td>152</td>\n",
       "      <td>132</td>\n",
       "      <td>100</td>\n",
       "      <td>151</td>\n",
       "      <td>150</td>\n",
       "      <td>127</td>\n",
       "      <td>205</td>\n",
       "      <td>...</td>\n",
       "      <td>144</td>\n",
       "      <td>128</td>\n",
       "      <td>157</td>\n",
       "      <td>159</td>\n",
       "      <td>205</td>\n",
       "      <td>182</td>\n",
       "      <td>143</td>\n",
       "      <td>129</td>\n",
       "      <td>89</td>\n",
       "      <td>122</td>\n",
       "    </tr>\n",
       "    <tr>\n",
       "      <th>3</th>\n",
       "      <td>86</td>\n",
       "      <td>82</td>\n",
       "      <td>88</td>\n",
       "      <td>85</td>\n",
       "      <td>103</td>\n",
       "      <td>93</td>\n",
       "      <td>98</td>\n",
       "      <td>109</td>\n",
       "      <td>104</td>\n",
       "      <td>115</td>\n",
       "      <td>...</td>\n",
       "      <td>75</td>\n",
       "      <td>79</td>\n",
       "      <td>80</td>\n",
       "      <td>109</td>\n",
       "      <td>128</td>\n",
       "      <td>89</td>\n",
       "      <td>85</td>\n",
       "      <td>80</td>\n",
       "      <td>63</td>\n",
       "      <td>48</td>\n",
       "    </tr>\n",
       "    <tr>\n",
       "      <th>4</th>\n",
       "      <td>168</td>\n",
       "      <td>143</td>\n",
       "      <td>140</td>\n",
       "      <td>139</td>\n",
       "      <td>129</td>\n",
       "      <td>123</td>\n",
       "      <td>123</td>\n",
       "      <td>141</td>\n",
       "      <td>137</td>\n",
       "      <td>101</td>\n",
       "      <td>...</td>\n",
       "      <td>201</td>\n",
       "      <td>231</td>\n",
       "      <td>199</td>\n",
       "      <td>183</td>\n",
       "      <td>195</td>\n",
       "      <td>179</td>\n",
       "      <td>134</td>\n",
       "      <td>142</td>\n",
       "      <td>158</td>\n",
       "      <td>149</td>\n",
       "    </tr>\n",
       "  </tbody>\n",
       "</table>\n",
       "<p>5 rows × 4096 columns</p>\n",
       "</div>"
      ],
      "text/plain": [
       "   pixel0000  pixel0001  pixel0002  pixel0003  pixel0004  pixel0005  \\\n",
       "0        134         99        119        130        142        169   \n",
       "1         55         64         74         63         74         75   \n",
       "2        114        116        136        152        132        100   \n",
       "3         86         82         88         85        103         93   \n",
       "4        168        143        140        139        129        123   \n",
       "\n",
       "   pixel0006  pixel0007  pixel0008  pixel0009  ...  pixel4086  pixel4087  \\\n",
       "0        152        139        117         87  ...        146        112   \n",
       "1         71         73         70         77  ...         76         79   \n",
       "2        151        150        127        205  ...        144        128   \n",
       "3         98        109        104        115  ...         75         79   \n",
       "4        123        141        137        101  ...        201        231   \n",
       "\n",
       "   pixel4088  pixel4089  pixel4090  pixel4091  pixel4092  pixel4093  \\\n",
       "0         89         73        100        120        120        126   \n",
       "1         85         86         77         68         66         65   \n",
       "2        157        159        205        182        143        129   \n",
       "3         80        109        128         89         85         80   \n",
       "4        199        183        195        179        134        142   \n",
       "\n",
       "   pixel4094  pixel4095  \n",
       "0        140        195  \n",
       "1         68         69  \n",
       "2         89        122  \n",
       "3         63         48  \n",
       "4        158        149  \n",
       "\n",
       "[5 rows x 4096 columns]"
      ]
     },
     "execution_count": 19,
     "metadata": {},
     "output_type": "execute_result"
    }
   ],
   "source": [
    "colorectalx.head()"
   ]
  },
  {
   "cell_type": "code",
   "execution_count": 20,
   "metadata": {},
   "outputs": [
    {
     "data": {
      "text/html": [
       "<div>\n",
       "<style scoped>\n",
       "    .dataframe tbody tr th:only-of-type {\n",
       "        vertical-align: middle;\n",
       "    }\n",
       "\n",
       "    .dataframe tbody tr th {\n",
       "        vertical-align: top;\n",
       "    }\n",
       "\n",
       "    .dataframe thead th {\n",
       "        text-align: right;\n",
       "    }\n",
       "</style>\n",
       "<table border=\"1\" class=\"dataframe\">\n",
       "  <thead>\n",
       "    <tr style=\"text-align: right;\">\n",
       "      <th></th>\n",
       "      <th>pixel0000</th>\n",
       "      <th>pixel0001</th>\n",
       "      <th>pixel0002</th>\n",
       "      <th>pixel0003</th>\n",
       "      <th>pixel0004</th>\n",
       "      <th>pixel0005</th>\n",
       "      <th>pixel0006</th>\n",
       "      <th>pixel0007</th>\n",
       "      <th>pixel0008</th>\n",
       "      <th>pixel0009</th>\n",
       "      <th>...</th>\n",
       "      <th>pixel4087</th>\n",
       "      <th>pixel4088</th>\n",
       "      <th>pixel4089</th>\n",
       "      <th>pixel4090</th>\n",
       "      <th>pixel4091</th>\n",
       "      <th>pixel4092</th>\n",
       "      <th>pixel4093</th>\n",
       "      <th>pixel4094</th>\n",
       "      <th>pixel4095</th>\n",
       "      <th>label</th>\n",
       "    </tr>\n",
       "  </thead>\n",
       "  <tbody>\n",
       "    <tr>\n",
       "      <th>0</th>\n",
       "      <td>134</td>\n",
       "      <td>99</td>\n",
       "      <td>119</td>\n",
       "      <td>130</td>\n",
       "      <td>142</td>\n",
       "      <td>169</td>\n",
       "      <td>152</td>\n",
       "      <td>139</td>\n",
       "      <td>117</td>\n",
       "      <td>87</td>\n",
       "      <td>...</td>\n",
       "      <td>112</td>\n",
       "      <td>89</td>\n",
       "      <td>73</td>\n",
       "      <td>100</td>\n",
       "      <td>120</td>\n",
       "      <td>120</td>\n",
       "      <td>126</td>\n",
       "      <td>140</td>\n",
       "      <td>195</td>\n",
       "      <td>2</td>\n",
       "    </tr>\n",
       "    <tr>\n",
       "      <th>1</th>\n",
       "      <td>55</td>\n",
       "      <td>64</td>\n",
       "      <td>74</td>\n",
       "      <td>63</td>\n",
       "      <td>74</td>\n",
       "      <td>75</td>\n",
       "      <td>71</td>\n",
       "      <td>73</td>\n",
       "      <td>70</td>\n",
       "      <td>77</td>\n",
       "      <td>...</td>\n",
       "      <td>79</td>\n",
       "      <td>85</td>\n",
       "      <td>86</td>\n",
       "      <td>77</td>\n",
       "      <td>68</td>\n",
       "      <td>66</td>\n",
       "      <td>65</td>\n",
       "      <td>68</td>\n",
       "      <td>69</td>\n",
       "      <td>2</td>\n",
       "    </tr>\n",
       "    <tr>\n",
       "      <th>2</th>\n",
       "      <td>114</td>\n",
       "      <td>116</td>\n",
       "      <td>136</td>\n",
       "      <td>152</td>\n",
       "      <td>132</td>\n",
       "      <td>100</td>\n",
       "      <td>151</td>\n",
       "      <td>150</td>\n",
       "      <td>127</td>\n",
       "      <td>205</td>\n",
       "      <td>...</td>\n",
       "      <td>128</td>\n",
       "      <td>157</td>\n",
       "      <td>159</td>\n",
       "      <td>205</td>\n",
       "      <td>182</td>\n",
       "      <td>143</td>\n",
       "      <td>129</td>\n",
       "      <td>89</td>\n",
       "      <td>122</td>\n",
       "      <td>2</td>\n",
       "    </tr>\n",
       "    <tr>\n",
       "      <th>3</th>\n",
       "      <td>86</td>\n",
       "      <td>82</td>\n",
       "      <td>88</td>\n",
       "      <td>85</td>\n",
       "      <td>103</td>\n",
       "      <td>93</td>\n",
       "      <td>98</td>\n",
       "      <td>109</td>\n",
       "      <td>104</td>\n",
       "      <td>115</td>\n",
       "      <td>...</td>\n",
       "      <td>79</td>\n",
       "      <td>80</td>\n",
       "      <td>109</td>\n",
       "      <td>128</td>\n",
       "      <td>89</td>\n",
       "      <td>85</td>\n",
       "      <td>80</td>\n",
       "      <td>63</td>\n",
       "      <td>48</td>\n",
       "      <td>2</td>\n",
       "    </tr>\n",
       "    <tr>\n",
       "      <th>4</th>\n",
       "      <td>168</td>\n",
       "      <td>143</td>\n",
       "      <td>140</td>\n",
       "      <td>139</td>\n",
       "      <td>129</td>\n",
       "      <td>123</td>\n",
       "      <td>123</td>\n",
       "      <td>141</td>\n",
       "      <td>137</td>\n",
       "      <td>101</td>\n",
       "      <td>...</td>\n",
       "      <td>231</td>\n",
       "      <td>199</td>\n",
       "      <td>183</td>\n",
       "      <td>195</td>\n",
       "      <td>179</td>\n",
       "      <td>134</td>\n",
       "      <td>142</td>\n",
       "      <td>158</td>\n",
       "      <td>149</td>\n",
       "      <td>2</td>\n",
       "    </tr>\n",
       "  </tbody>\n",
       "</table>\n",
       "<p>5 rows × 4097 columns</p>\n",
       "</div>"
      ],
      "text/plain": [
       "   pixel0000  pixel0001  pixel0002  pixel0003  pixel0004  pixel0005  \\\n",
       "0        134         99        119        130        142        169   \n",
       "1         55         64         74         63         74         75   \n",
       "2        114        116        136        152        132        100   \n",
       "3         86         82         88         85        103         93   \n",
       "4        168        143        140        139        129        123   \n",
       "\n",
       "   pixel0006  pixel0007  pixel0008  pixel0009  ...  pixel4087  pixel4088  \\\n",
       "0        152        139        117         87  ...        112         89   \n",
       "1         71         73         70         77  ...         79         85   \n",
       "2        151        150        127        205  ...        128        157   \n",
       "3         98        109        104        115  ...         79         80   \n",
       "4        123        141        137        101  ...        231        199   \n",
       "\n",
       "   pixel4089  pixel4090  pixel4091  pixel4092  pixel4093  pixel4094  \\\n",
       "0         73        100        120        120        126        140   \n",
       "1         86         77         68         66         65         68   \n",
       "2        159        205        182        143        129         89   \n",
       "3        109        128         89         85         80         63   \n",
       "4        183        195        179        134        142        158   \n",
       "\n",
       "   pixel4095  label  \n",
       "0        195      2  \n",
       "1         69      2  \n",
       "2        122      2  \n",
       "3         48      2  \n",
       "4        149      2  \n",
       "\n",
       "[5 rows x 4097 columns]"
      ]
     },
     "execution_count": 20,
     "metadata": {},
     "output_type": "execute_result"
    }
   ],
   "source": [
    "colorectaly.head()\n"
   ]
  },
  {
   "cell_type": "code",
   "execution_count": 21,
   "metadata": {},
   "outputs": [
    {
     "data": {
      "text/plain": [
       "7    0.125\n",
       "3    0.125\n",
       "6    0.125\n",
       "2    0.125\n",
       "5    0.125\n",
       "1    0.125\n",
       "8    0.125\n",
       "4    0.125\n",
       "Name: label, dtype: float64"
      ]
     },
     "execution_count": 21,
     "metadata": {},
     "output_type": "execute_result"
    }
   ],
   "source": [
    "# Check distribution since this is a classification problem\n",
    "\n",
    "y.value_counts(normalize = True)"
   ]
  },
  {
   "cell_type": "code",
   "execution_count": 22,
   "metadata": {},
   "outputs": [],
   "source": [
    "# split the data into the training and testing sets\n",
    "\n",
    "X_train, X_val, y_train, y_val = train_test_split(X,\n",
    "                                                    y,\n",
    "                                                    test_size=0.33,\n",
    "                                                    stratify=y,\n",
    "                                                    random_state=42\n",
    "                                                    )"
   ]
  },
  {
   "cell_type": "code",
   "execution_count": 25,
   "metadata": {},
   "outputs": [],
   "source": [
    "# standard scaler applied\n",
    "\n",
    "ss = StandardScaler()\n",
    "ss.fit(X_train)\n",
    "X_train = ss.transform(X_train)\n",
    "X_val = ss.transform(X_val)\n"
   ]
  },
  {
   "cell_type": "code",
   "execution_count": 26,
   "metadata": {},
   "outputs": [],
   "source": [
    "# instantiate Random Forests \n",
    "\n",
    "rf = RandomForestClassifier(n_estimators=100)"
   ]
  },
  {
   "cell_type": "code",
   "execution_count": 27,
   "metadata": {},
   "outputs": [
    {
     "name": "stdout",
     "output_type": "stream",
     "text": [
      "Random Forest mean score: 0.6854\n"
     ]
    }
   ],
   "source": [
    "# preliminar modeling with cross val score\n",
    "\n",
    "pre_score = cross_val_score(estimator = rf,\n",
    "                            X = X_train, \n",
    "                            y = y_train,\n",
    "                            scoring = 'accuracy',\n",
    "                            cv = 10,\n",
    "                            verbose = 0)\n",
    "\n",
    "print('Random Forest mean score: %5.4f' %np.mean(pre_score))\n"
   ]
  },
  {
   "cell_type": "code",
   "execution_count": 28,
   "metadata": {},
   "outputs": [
    {
     "name": "stdout",
     "output_type": "stream",
     "text": [
      "0.699402985074627\n"
     ]
    },
    {
     "data": {
      "text/plain": [
       "{'max_depth': None, 'n_estimators': 200}"
      ]
     },
     "execution_count": 28,
     "metadata": {},
     "output_type": "execute_result"
    }
   ],
   "source": [
    "# gridsearch for random forests\n",
    "\n",
    "rf_params = {\n",
    "    'n_estimators': [100, 150, 200],\n",
    "    'max_depth': [None, 1, 2, 3, 4, 5],\n",
    "}\n",
    "gs = GridSearchCV(rf, param_grid=rf_params, cv=5)\n",
    "gs.fit(X_train, y_train)\n",
    "print(gs.best_score_)\n",
    "gs.best_params_"
   ]
  },
  {
   "cell_type": "code",
   "execution_count": 30,
   "metadata": {},
   "outputs": [],
   "source": [
    "# predictions using Random Forests\n",
    "\n",
    "predictions = gs.predict(X_val)"
   ]
  },
  {
   "cell_type": "code",
   "execution_count": 31,
   "metadata": {},
   "outputs": [
    {
     "data": {
      "text/plain": [
       "1.0"
      ]
     },
     "execution_count": 31,
     "metadata": {},
     "output_type": "execute_result"
    }
   ],
   "source": [
    "# Random Forests using GridSearchCV\n",
    "\n",
    "gs.score(X_train, y_train)"
   ]
  },
  {
   "cell_type": "code",
   "execution_count": 32,
   "metadata": {},
   "outputs": [
    {
     "data": {
      "text/plain": [
       "0.686060606060606"
      ]
     },
     "execution_count": 32,
     "metadata": {},
     "output_type": "execute_result"
    }
   ],
   "source": [
    "# Random Forests using GridSearchCV\n",
    "\n",
    "gs.score(X_val, y_val)"
   ]
  },
  {
   "cell_type": "code",
   "execution_count": 33,
   "metadata": {},
   "outputs": [
    {
     "data": {
      "text/plain": [
       "array([[144,   2,  26,  21,   0,  13,   0,   0],\n",
       "       [  1, 103,  30,   0,  62,  10,   0,   0],\n",
       "       [ 34,  25, 115,   3,  17,  12,   0,   0],\n",
       "       [ 49,   1,  25, 117,   0,  15,   0,   0],\n",
       "       [  5,  57,  19,   0, 106,   5,  14,   0],\n",
       "       [ 24,   2,  13,   9,  13, 145,   0,   0],\n",
       "       [  0,   0,   0,   0,   1,   0, 201,   5],\n",
       "       [  0,   0,   0,   0,   0,   0,   5, 201]], dtype=int64)"
      ]
     },
     "execution_count": 33,
     "metadata": {},
     "output_type": "execute_result"
    }
   ],
   "source": [
    "# Random Forests using GridSearchCV\n",
    "# generate a confusion matrix.\n",
    "\n",
    "confusion_matrix(y_val, predictions)"
   ]
  },
  {
   "cell_type": "code",
   "execution_count": 35,
   "metadata": {},
   "outputs": [],
   "source": [
    "# Random Forests using GridSearchCV\n",
    "\n",
    "#tn, fp, fn, tp = confusion_matrix(y_val, predictions).ravel()"
   ]
  },
  {
   "cell_type": "code",
   "execution_count": 36,
   "metadata": {},
   "outputs": [],
   "source": [
    "# Random Forests using GridSearchCV\n",
    "\n",
    "#print(\"True Negatives: %s\" % tn)\n",
    "#print(\"False Positives: %s\" % fp)\n",
    "#print(\"False Negatives: %s\" % fn)\n",
    "#print(\"True Positives: %s\" % tp)"
   ]
  },
  {
   "cell_type": "code",
   "execution_count": 37,
   "metadata": {},
   "outputs": [],
   "source": [
    "# Random Forests using GridSearchCV\n",
    "\n",
    "#plot_confusion_matrix(gs, X_test, y_test, cmap='viridis', \n",
    "                      #values_format='d', display_labels=['1', '']);"
   ]
  },
  {
   "cell_type": "code",
   "execution_count": 40,
   "metadata": {},
   "outputs": [],
   "source": [
    "# Random Forests using GridSearchCV\n",
    "# from sklearn f1 score\n",
    "\n",
    "#f1_score(y_val, predictions)"
   ]
  },
  {
   "cell_type": "code",
   "execution_count": null,
   "metadata": {},
   "outputs": [],
   "source": [
    "# Random Forests using GridSearchCV\n",
    "# test specificity of our model\n",
    "\n",
    "#spec1 = tn1 / (tn1 + fp1)\n",
    "#spec1"
   ]
  },
  {
   "cell_type": "code",
   "execution_count": null,
   "metadata": {},
   "outputs": [],
   "source": [
    "# Random Forests using GridSearchCV\n",
    "# test sensitivity of our model\n",
    "\n",
    "#sens1 = tp1 / (tp1 + fn1)\n",
    "#sens1"
   ]
  },
  {
   "cell_type": "code",
   "execution_count": null,
   "metadata": {},
   "outputs": [],
   "source": []
  }
 ],
 "metadata": {
  "kernelspec": {
   "display_name": "Python 3",
   "language": "python",
   "name": "python3"
  },
  "language_info": {
   "codemirror_mode": {
    "name": "ipython",
    "version": 3
   },
   "file_extension": ".py",
   "mimetype": "text/x-python",
   "name": "python",
   "nbconvert_exporter": "python",
   "pygments_lexer": "ipython3",
   "version": "3.8.5"
  }
 },
 "nbformat": 4,
 "nbformat_minor": 4
}
