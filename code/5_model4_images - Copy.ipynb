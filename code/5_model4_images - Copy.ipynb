{
 "cells": [
  {
   "cell_type": "code",
   "execution_count": null,
   "metadata": {},
   "outputs": [],
   "source": []
  },
  {
   "cell_type": "code",
   "execution_count": 1,
   "metadata": {},
   "outputs": [],
   "source": [
    "\n",
    "%matplotlib inline\n",
    "import matplotlib.pyplot as plt\n",
    "import numpy as np\n",
    "import pandas as pd\n",
    "import os\n",
    "from glob import glob\n",
    "import seaborn as sns\n",
    "from tensorflow.keras.layers import Dense, Dropout, Flatten, Conv2D, MaxPooling2D\n",
    "from tensorflow.keras.preprocessing.image import ImageDataGenerator\n",
    "from tensorflow.keras.models import Sequential\n",
    "from tensorflow.keras.applications.vgg16 import VGG16"
   ]
  },
  {
   "cell_type": "code",
   "execution_count": 2,
   "metadata": {},
   "outputs": [],
   "source": [
    "\n",
    "# create a data generator\n",
    "datagen = ImageDataGenerator(rotation_range=10, # rotation\n",
    "        width_shift_range=0.2, # horizontal shift\n",
    "        height_shift_range=0.2, # vertical shift\n",
    "        zoom_range=0.2, # zoom\n",
    "        horizontal_flip=True, # horizontal flip\n",
    "        brightness_range=[0.2,1.2]) # brightness"
   ]
  },
  {
   "cell_type": "code",
   "execution_count": 3,
   "metadata": {},
   "outputs": [
    {
     "name": "stdout",
     "output_type": "stream",
     "text": [
      "Found 834 images belonging to 2 classes.\n",
      "Found 425 images belonging to 2 classes.\n"
     ]
    }
   ],
   "source": [
    "# load and iterate training dataset\n",
    "train_it = datagen.flow_from_directory('../data/val1/', class_mode='binary', batch_size=5)\n",
    "# load and iterate validation dataset\n",
    "val_it = datagen.flow_from_directory('../data/train/', class_mode='binary', batch_size=5)\n",
    "# load and iterate test dataset\n",
    "#test_it = datagen.flow_from_directory('../data/test/', class_mode='binary', batch_size=5)"
   ]
  },
  {
   "cell_type": "code",
   "execution_count": 4,
   "metadata": {},
   "outputs": [
    {
     "name": "stdout",
     "output_type": "stream",
     "text": [
      "Batch shape=(5, 256, 256, 3), min=0.000, max=255.000\n"
     ]
    }
   ],
   "source": [
    "batchX, batchy = train_it.next()\n",
    "print('Batch shape=%s, min=%.3f, max=%.3f' % (batchX.shape, batchX.min(), batchX.max()))"
   ]
  },
  {
   "cell_type": "code",
   "execution_count": 6,
   "metadata": {},
   "outputs": [
    {
     "name": "stdout",
     "output_type": "stream",
     "text": [
      "Epoch 1/12\n",
      "16/16 [==============================] - 90s 6s/step - loss: 16.8512 - accuracy: 0.4990 - val_loss: 0.6915 - val_accuracy: 0.4800\n",
      "Epoch 2/12\n",
      "16/16 [==============================] - 86s 5s/step - loss: 0.6932 - accuracy: 0.3397 - val_loss: 0.6932 - val_accuracy: 0.4750\n",
      "Epoch 3/12\n",
      "16/16 [==============================] - 79s 5s/step - loss: 0.6932 - accuracy: 0.4670 - val_loss: 0.6934 - val_accuracy: 0.4850\n",
      "Epoch 4/12\n",
      "16/16 [==============================] - 73s 5s/step - loss: 0.6937 - accuracy: 0.4731 - val_loss: 0.6930 - val_accuracy: 0.5100\n",
      "Epoch 5/12\n",
      "16/16 [==============================] - 75s 5s/step - loss: 0.6934 - accuracy: 0.4936 - val_loss: 0.6936 - val_accuracy: 0.4700\n",
      "Epoch 6/12\n",
      "16/16 [==============================] - 71s 5s/step - loss: 0.6932 - accuracy: 0.5059 - val_loss: 0.6932 - val_accuracy: 0.4900\n",
      "Epoch 7/12\n",
      "16/16 [==============================] - 79s 5s/step - loss: 0.6936 - accuracy: 0.4440 - val_loss: 0.6932 - val_accuracy: 0.4600\n",
      "Epoch 8/12\n",
      "16/16 [==============================] - 40s 3s/step - loss: 0.6932 - accuracy: 0.4764 - val_loss: 0.6933 - val_accuracy: 0.4650\n",
      "Epoch 9/12\n",
      "16/16 [==============================] - 40s 3s/step - loss: 0.6932 - accuracy: 0.4947 - val_loss: 0.6933 - val_accuracy: 0.4700\n",
      "Epoch 10/12\n",
      "16/16 [==============================] - 40s 3s/step - loss: 0.6932 - accuracy: 0.4785 - val_loss: 0.6934 - val_accuracy: 0.4500\n",
      "Epoch 11/12\n",
      "16/16 [==============================] - 40s 3s/step - loss: 0.6929 - accuracy: 0.5421 - val_loss: 0.6932 - val_accuracy: 0.4900\n",
      "Epoch 12/12\n",
      "16/16 [==============================] - 41s 3s/step - loss: 0.6931 - accuracy: 0.5125 - val_loss: 0.6932 - val_accuracy: 0.4750\n"
     ]
    },
    {
     "data": {
      "text/plain": [
       "<tensorflow.python.keras.callbacks.History at 0x1e80026160>"
      ]
     },
     "execution_count": 6,
     "metadata": {},
     "output_type": "execute_result"
    }
   ],
   "source": [
    "model = Sequential()\n",
    "\n",
    "\n",
    "model.add(Conv2D(filters=128,             # number of filters\n",
    "                       kernel_size=(5,5),      # height/width of filter\n",
    "                       activation='relu',\n",
    "                       padding = 'same',# activation function \n",
    "                       input_shape=(256, 256, 3))) # shape of input (image)\n",
    "\n",
    "# Add a pooling layer.\n",
    "model.add(MaxPooling2D(pool_size=(2,2)))\n",
    "\n",
    "model.add(Dropout(0.25))  \n",
    "\n",
    "# Add another convolutional layer.\n",
    "model.add(Conv2D(64,\n",
    "                       kernel_size=(3,3),\n",
    "                       activation='relu'))\n",
    "\n",
    "# Add another pooling layer.\n",
    "model.add(MaxPooling2D(pool_size=(2,2)))\n",
    "\n",
    "#model.add(Dropout(0.25)) # good to drop\n",
    "\n",
    "# Add another convolutional layer.\n",
    "model.add(Conv2D(64,\n",
    "                       kernel_size=(3,3),\n",
    "                       activation='relu'))\n",
    "\n",
    "# Add another pooling layer.\n",
    "model.add(MaxPooling2D(pool_size=(2,2)))\n",
    "\n",
    "#model.add(Dropout(0.25))  #good to drop\n",
    "\n",
    "model.add(Flatten())\n",
    "\n",
    "model.add(Dense(256, activation='relu'))\n",
    "model.add(Dense(64, activation='relu'))\n",
    "model.add(Dense(32, activation='relu'))\n",
    "\n",
    "model.add(Dense(1, activation='sigmoid'))\n",
    "\n",
    "\n",
    "\n",
    "model.compile(loss='binary_crossentropy',\n",
    "                    optimizer='adam',\n",
    "                    metrics=['accuracy'])\n",
    "\n",
    "\n",
    "# fit model\n",
    "model.fit(train_it,epochs = 12, steps_per_epoch=16, validation_data=val_it, validation_steps=40)\n",
    "\n",
    "\n",
    "\n",
    "\n"
   ]
  },
  {
   "cell_type": "code",
   "execution_count": 60,
   "metadata": {},
   "outputs": [],
   "source": [
    "\n",
    "#loss = model.evaluate(test_it, steps=24)"
   ]
  },
  {
   "cell_type": "code",
   "execution_count": null,
   "metadata": {},
   "outputs": [],
   "source": [
    "\n"
   ]
  },
  {
   "cell_type": "code",
   "execution_count": null,
   "metadata": {},
   "outputs": [],
   "source": []
  },
  {
   "cell_type": "code",
   "execution_count": null,
   "metadata": {},
   "outputs": [],
   "source": []
  },
  {
   "cell_type": "code",
   "execution_count": null,
   "metadata": {},
   "outputs": [],
   "source": []
  },
  {
   "cell_type": "code",
   "execution_count": null,
   "metadata": {},
   "outputs": [],
   "source": []
  }
 ],
 "metadata": {
  "kernelspec": {
   "display_name": "Python 3",
   "language": "python",
   "name": "python3"
  },
  "language_info": {
   "codemirror_mode": {
    "name": "ipython",
    "version": 3
   },
   "file_extension": ".py",
   "mimetype": "text/x-python",
   "name": "python",
   "nbconvert_exporter": "python",
   "pygments_lexer": "ipython3",
   "version": "3.8.5"
  }
 },
 "nbformat": 4,
 "nbformat_minor": 4
}
