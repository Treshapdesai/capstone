{
 "cells": [
  {
   "cell_type": "code",
   "execution_count": null,
   "metadata": {},
   "outputs": [],
   "source": []
  },
  {
   "cell_type": "code",
   "execution_count": 55,
   "metadata": {},
   "outputs": [],
   "source": [
    "\n",
    "%matplotlib inline\n",
    "import matplotlib.pyplot as plt\n",
    "import numpy as np\n",
    "import pandas as pd\n",
    "import os\n",
    "from glob import glob\n",
    "import seaborn as sns\n",
    "from tensorflow.keras.layers import Dense, Dropout, Flatten, Conv2D, MaxPooling2D\n",
    "from tensorflow.keras.preprocessing.image import ImageDataGenerator\n",
    "from tensorflow.keras.models import Sequential"
   ]
  },
  {
   "cell_type": "code",
   "execution_count": 56,
   "metadata": {},
   "outputs": [],
   "source": [
    "\n",
    "# create a data generator\n",
    "datagen = ImageDataGenerator()"
   ]
  },
  {
   "cell_type": "code",
   "execution_count": 57,
   "metadata": {},
   "outputs": [
    {
     "name": "stdout",
     "output_type": "stream",
     "text": [
      "Found 834 images belonging to 2 classes.\n",
      "Found 425 images belonging to 2 classes.\n",
      "Found 425 images belonging to 2 classes.\n"
     ]
    }
   ],
   "source": [
    "# load and iterate training dataset\n",
    "train_it = datagen.flow_from_directory('../data/val1/', class_mode='binary', batch_size=5)\n",
    "# load and iterate validation dataset\n",
    "val_it = datagen.flow_from_directory('../data/train/', class_mode='binary', batch_size=5)\n",
    "# load and iterate test dataset\n",
    "#test_it = datagen.flow_from_directory('../data/test/', class_mode='binary', batch_size=5)"
   ]
  },
  {
   "cell_type": "code",
   "execution_count": 58,
   "metadata": {},
   "outputs": [
    {
     "name": "stdout",
     "output_type": "stream",
     "text": [
      "Batch shape=(5, 256, 256, 3), min=5.000, max=255.000\n"
     ]
    }
   ],
   "source": [
    "batchX, batchy = train_it.next()\n",
    "print('Batch shape=%s, min=%.3f, max=%.3f' % (batchX.shape, batchX.min(), batchX.max()))"
   ]
  },
  {
   "cell_type": "code",
   "execution_count": 61,
   "metadata": {},
   "outputs": [
    {
     "name": "stdout",
     "output_type": "stream",
     "text": [
      "Epoch 1/12\n",
      "16/16 [==============================] - 76s 5s/step - loss: 143.0130 - accuracy: 0.3851 - val_loss: 0.7083 - val_accuracy: 0.4320\n",
      "Epoch 2/12\n",
      "16/16 [==============================] - 92s 6s/step - loss: 0.7032 - accuracy: 0.5408 - val_loss: 0.6917 - val_accuracy: 0.5600\n",
      "Epoch 3/12\n",
      "16/16 [==============================] - 81s 5s/step - loss: 0.7102 - accuracy: 0.5904 - val_loss: 0.6885 - val_accuracy: 0.6160\n",
      "Epoch 4/12\n",
      "16/16 [==============================] - 76s 5s/step - loss: 0.6568 - accuracy: 0.6865 - val_loss: 0.6931 - val_accuracy: 0.5040\n",
      "Epoch 5/12\n",
      "16/16 [==============================] - 75s 5s/step - loss: 0.6711 - accuracy: 0.5300 - val_loss: 0.6949 - val_accuracy: 0.4480\n",
      "Epoch 6/12\n",
      "16/16 [==============================] - 75s 5s/step - loss: 0.7449 - accuracy: 0.4397 - val_loss: 0.6933 - val_accuracy: 0.4960\n",
      "Epoch 7/12\n",
      "16/16 [==============================] - 75s 5s/step - loss: 0.6433 - accuracy: 0.6827 - val_loss: 0.6918 - val_accuracy: 0.5120\n",
      "Epoch 8/12\n",
      "16/16 [==============================] - 76s 5s/step - loss: 0.6546 - accuracy: 0.6471 - val_loss: 0.6814 - val_accuracy: 0.5520\n",
      "Epoch 9/12\n",
      "16/16 [==============================] - 77s 5s/step - loss: 0.6136 - accuracy: 0.6362 - val_loss: 0.6904 - val_accuracy: 0.5040\n",
      "Epoch 10/12\n",
      "16/16 [==============================] - 74s 5s/step - loss: 0.5547 - accuracy: 0.7212 - val_loss: 0.6503 - val_accuracy: 0.5520\n",
      "Epoch 11/12\n",
      "16/16 [==============================] - 78s 5s/step - loss: 1.0140 - accuracy: 0.5263 - val_loss: 0.6950 - val_accuracy: 0.4800\n",
      "Epoch 12/12\n",
      "16/16 [==============================] - 72s 5s/step - loss: 0.7013 - accuracy: 0.5140 - val_loss: 0.6924 - val_accuracy: 0.5200\n"
     ]
    },
    {
     "data": {
      "text/plain": [
       "<tensorflow.python.keras.callbacks.History at 0xf1bdbe08e0>"
      ]
     },
     "execution_count": 61,
     "metadata": {},
     "output_type": "execute_result"
    }
   ],
   "source": [
    "model = Sequential()\n",
    "\n",
    "model.add(Conv2D(filters=128,             # number of filters\n",
    "                       kernel_size=(5,5),      # height/width of filter\n",
    "                       activation='relu',\n",
    "                       padding = 'same',# activation function \n",
    "                       input_shape=(256, 256, 3))) # shape of input (image)\n",
    "\n",
    "# Add a pooling layer.\n",
    "model.add(MaxPooling2D(pool_size=(2,2)))\n",
    "\n",
    "model.add(Dropout(0.25))\n",
    "\n",
    "# Add another convolutional layer.\n",
    "model.add(Conv2D(64,\n",
    "                       kernel_size=(3,3),\n",
    "                       activation='relu'))\n",
    "\n",
    "# Add another pooling layer.\n",
    "model.add(MaxPooling2D(pool_size=(2,2)))\n",
    "\n",
    "model.add(Dropout(0.25))\n",
    "\n",
    "# Add another convolutional layer.\n",
    "model.add(Conv2D(64,\n",
    "                       kernel_size=(3,3),\n",
    "                       activation='relu'))\n",
    "\n",
    "# Add another pooling layer.\n",
    "model.add(MaxPooling2D(pool_size=(2,2)))\n",
    "\n",
    "model.add(Dropout(0.25))\n",
    "\n",
    "model.add(Flatten())\n",
    "\n",
    "model.add(Dense(256, activation='relu'))\n",
    "model.add(Dense(64, activation='relu'))\n",
    "model.add(Dense(32, activation='relu'))\n",
    "\n",
    "model.add(Dense(1, activation='sigmoid'))\n",
    "\n",
    "\n",
    "\n",
    "model.compile(loss='binary_crossentropy',\n",
    "                    optimizer='adam',\n",
    "                    metrics=['accuracy'])\n",
    "\n",
    "\n",
    "# fit model\n",
    "model.fit(train_it,epochs = 12, steps_per_epoch=16, validation_data=val_it, validation_steps=25)\n",
    "\n",
    "\n",
    "\n",
    "\n"
   ]
  },
  {
   "cell_type": "code",
   "execution_count": 60,
   "metadata": {},
   "outputs": [],
   "source": [
    "\n",
    "#loss = model.evaluate(test_it, steps=24)"
   ]
  },
  {
   "cell_type": "code",
   "execution_count": null,
   "metadata": {},
   "outputs": [],
   "source": [
    "\n"
   ]
  },
  {
   "cell_type": "code",
   "execution_count": null,
   "metadata": {},
   "outputs": [],
   "source": []
  },
  {
   "cell_type": "code",
   "execution_count": null,
   "metadata": {},
   "outputs": [],
   "source": []
  },
  {
   "cell_type": "code",
   "execution_count": null,
   "metadata": {},
   "outputs": [],
   "source": []
  },
  {
   "cell_type": "code",
   "execution_count": null,
   "metadata": {},
   "outputs": [],
   "source": []
  }
 ],
 "metadata": {
  "kernelspec": {
   "display_name": "Python 3",
   "language": "python",
   "name": "python3"
  },
  "language_info": {
   "codemirror_mode": {
    "name": "ipython",
    "version": 3
   },
   "file_extension": ".py",
   "mimetype": "text/x-python",
   "name": "python",
   "nbconvert_exporter": "python",
   "pygments_lexer": "ipython3",
   "version": "3.8.5"
  }
 },
 "nbformat": 4,
 "nbformat_minor": 4
}
